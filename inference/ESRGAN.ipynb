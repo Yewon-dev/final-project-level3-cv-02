{
 "cells": [
  {
   "cell_type": "code",
   "execution_count": null,
   "id": "6d66e55c",
   "metadata": {},
   "outputs": [],
   "source": [
    "# For original code:\n",
    "#   Copyright 2019 The TensorFlow Hub Authors. All Rights Reserved.\n",
    "# For modifications:\n",
    "#   Copyright 2022 Bucket Interior Team. All Rights Reserved.\n",
    "#\n",
    "# Licensed under the Apache License, Version 2.0 (the \"License\");\n",
    "# you may not use this file except in compliance with the License.\n",
    "# You may obtain a copy of the License at\n",
    "#\n",
    "#     http://www.apache.org/licenses/LICENSE-2.0\n",
    "#\n",
    "# Unless required by applicable law or agreed to in writing, software\n",
    "# distributed under the License is distributed on an \"AS IS\" BASIS, \n",
    "# WITHOUT WARRANTIES OR CONDITIONS OF ANY KIND, either express or implied.\n",
    "# See the License for the specific language governing permissions and\n",
    "# limitations under the License."
   ]
  },
  {
   "cell_type": "code",
   "execution_count": null,
   "id": "194224af-64cf-4a5c-80a7-3809bbf16a65",
   "metadata": {},
   "outputs": [],
   "source": [
    "img_paths=[\"test.jpg\",\"test2.jpg\",\"test3.jpg\"]"
   ]
  },
  {
   "cell_type": "code",
   "execution_count": null,
   "id": "a8347034-11fe-40ef-9c80-85aa8fd9c2c7",
   "metadata": {},
   "outputs": [],
   "source": [
    "import os\n",
    "import time\n",
    "from PIL import Image\n",
    "import streamlit as st\n",
    "import pandas as pd\n",
    "import numpy as np\n",
    "import tensorflow as tf\n",
    "import tensorflow_hub as hub\n",
    "import matplotlib.pyplot as plt\n",
    "os.environ[\"TFHUB_DOWNLOAD_PROGRESS\"] = \"True\"\n",
    "\n",
    "SAVED_MODEL_PATH = \"https://tfhub.dev/captain-pool/esrgan-tf2/1\"\n",
    "\n",
    "def preprocess_image(image_path):\n",
    "    hr_image = tf.image.decode_image(tf.io.read_file(image_path))\n",
    "      # If PNG, remove the alpha channel. The model only supports\n",
    "      # images with 3 color channels.\n",
    "    if hr_image.shape[-1] == 4:\n",
    "        hr_image = hr_image[...,:-1]\n",
    "    hr_size = (tf.convert_to_tensor(hr_image.shape[:-1]) // 4) * 4\n",
    "    hr_image = tf.image.crop_to_bounding_box(hr_image, 0, 0, hr_size[0], hr_size[1])\n",
    "    hr_image = tf.cast(hr_image, tf.float32)\n",
    "    return tf.expand_dims(hr_image, 0)\n",
    "    \n",
    "    \n",
    "def plot_image(image, title=\"\"):\n",
    "    image = np.asarray(image)\n",
    "    image = tf.clip_by_value(image, 0, 255)\n",
    "    image = Image.fromarray(tf.cast(image, tf.uint8).numpy())\n",
    "    plt.imshow(image)\n",
    "    plt.axis(\"off\")\n",
    "    plt.title(title)\n",
    "\n",
    "\n",
    "# Defining helper functions\n",
    "def downscale_image(image):\n",
    "    image_size = []\n",
    "    if len(image.shape) == 3:\n",
    "        image_size = [image.shape[1], image.shape[0]]\n",
    "    else:\n",
    "        raise ValueError(\"Dimension mismatch. Can work only on single image.\")\n",
    "\n",
    "    image = tf.squeeze(\n",
    "    tf.cast(tf.clip_by_value(image, 0, 255), tf.uint8))\n",
    "\n",
    "    lr_image = np.asarray(Image.fromarray(image.numpy()).resize([image_size[0] // 4, image_size[1] // 4],Image.BICUBIC))\n",
    "\n",
    "    lr_image = tf.expand_dims(lr_image, 0)\n",
    "    lr_image = tf.cast(lr_image, tf.float32)\n",
    "    return lr_image\n",
    "\n",
    "model = hub.load(SAVED_MODEL_PATH)\n",
    "plt.rcParams['figure.figsize'] = [25, 8 * len(img_paths)]\n",
    "fig, axes = plt.subplots(len(img_paths),2)\n",
    "\n",
    "lr_img, super_img = [],[]\n",
    "for i in range(len(img_paths)):\n",
    "    IMAGE_PATH=img_paths[i]\n",
    "    hr_image=hr_image = preprocess_image(IMAGE_PATH)\n",
    "    lr_image = downscale_image(tf.squeeze(hr_image))\n",
    "    fake_image = model(lr_image)\n",
    "    fake_image = tf.squeeze(fake_image)\n",
    "    lr_img.append(lr_image)\n",
    "    super_img.append(fake_image)\n",
    "    plt.subplot(len(img_paths),2,2*i+1)\n",
    "    fig.tight_layout()\n",
    "    plot_image(tf.squeeze(lr_image), str(lr_image.shape[1:3]))\n",
    "    plt.subplot(len(img_paths),2,2*i+2)\n",
    "    fig.tight_layout()\n",
    "    plot_image(tf.squeeze(fake_image), str(fake_image.shape[1:3]))"
   ]
  },
  {
   "cell_type": "code",
   "execution_count": null,
   "id": "9bf37fd3-aced-497b-8b00-0f40a9aa7052",
   "metadata": {},
   "outputs": [],
   "source": [
    "super_img"
   ]
  }
 ],
 "metadata": {
  "kernelspec": {
   "display_name": "Python 3 (ipykernel)",
   "language": "python",
   "name": "python3"
  },
  "language_info": {
   "codemirror_mode": {
    "name": "ipython",
    "version": 3
   },
   "file_extension": ".py",
   "mimetype": "text/x-python",
   "name": "python",
   "nbconvert_exporter": "python",
   "pygments_lexer": "ipython3",
   "version": "3.8.5"
  }
 },
 "nbformat": 4,
 "nbformat_minor": 5
}
